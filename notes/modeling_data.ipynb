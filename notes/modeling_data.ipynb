{
 "cells": [
  {
   "cell_type": "markdown",
   "metadata": {},
   "source": [
    "### TODO:\n",
    "Girish\n",
    "- ~~Dataset construction~~\n",
    "\n",
    "Mike\n",
    "- ~~implement build_sequences & build_skipgrams~~\n",
    "- ~~softmax word embeddings~~\n",
    "- implement to_onehot_tensor\n",
    "- seq2seq autoencoder\n",
    "- train noise-contrastive word embeddings\n",
    "\n",
    "Guowei\n",
    "- clustering & metrics\n",
    "- low dimensional PCA / MDN / TSNE visualizations"
   ]
  },
  {
   "cell_type": "code",
   "execution_count": 200,
   "metadata": {},
   "outputs": [],
   "source": [
    "import pandas as pd\n",
    "import matplotlib.pyplot as plt\n",
    "from tqdm import tqdm\n",
    "import numpy as np\n",
    "import collections\n",
    "import tensorflow as tf\n",
    "from sklearn.manifold import TSNE\n",
    "from sklearn.cluster import DBSCAN, KMeans\n",
    "from sklearn.preprocessing import StandardScaler\n",
    "from sklearn.metrics import silhouette_samples, silhouette_score\n",
    "%matplotlib inline\n",
    "plt.style.use('ggplot')"
   ]
  },
  {
   "cell_type": "code",
   "execution_count": 2,
   "metadata": {},
   "outputs": [
    {
     "name": "stderr",
     "output_type": "stream",
     "text": [
      "/Users/mwalton/miniconda3/envs/gatech/lib/python3.6/site-packages/ipykernel/__main__.py:1: FutureWarning: from_csv is deprecated. Please use read_csv(...) instead. Note that some of the default arguments are different, so please refer to the documentation for from_csv when changing your function calls\n",
      "  if __name__ == '__main__':\n"
     ]
    }
   ],
   "source": [
    "data = pd.DataFrame.from_csv('./modeling_data.tsv', sep='|')\n",
    "subj = 'sequence_table.subject_id'\n",
    "hadm = 'sequence_table.hadm_id'\n",
    "service = 'sequence_table.service'\n",
    "exp = 'sequence_table.expire_flag'\n",
    "seq = 'sequence_table.icd_seq'\n",
    "data.reset_index(inplace=True)\n",
    "data.set_index([subj, hadm, service], inplace=True)\n",
    "sequences = data[seq].sample(1000)"
   ]
  },
  {
   "cell_type": "code",
   "execution_count": 186,
   "metadata": {},
   "outputs": [],
   "source": [
    "def filter_sequences(series, vocab_size=None, min_seq_len=0, max_seq_len=float('Inf')):\n",
    "    ''' This function accepts a pandas Series object and filteres it by the following args:\n",
    "        vocab_size: drops tokens that occur with frequency less than the top vocab_size\n",
    "                    tokens in the dictionary\n",
    "        min_seq_len: drop sequences with less than min_seq_len\n",
    "        max_seq_len: truncate sequences longer than max_seq_len\n",
    "        \n",
    "        Returns:\n",
    "        filtered_batch: list of tokenized sequence lists\n",
    "        counts: token frequencies\n",
    "        lengths: length of each sequence after filter\n",
    "        '''\n",
    "    max_len = 0\n",
    "    batch = []\n",
    "    counts = collections.Counter()\n",
    "    \n",
    "    for key, val in series.iteritems():\n",
    "        v = [int(x) for x in val.split(',')]\n",
    "        \n",
    "        if len(v) < min_seq_len:\n",
    "            continue\n",
    "        if len(v) > max_seq_len:\n",
    "            v = v[:max_seq_len]\n",
    "        counts += collections.Counter(v)\n",
    "        batch.append(v)\n",
    "    \n",
    "    if vocab_size != None:\n",
    "        counts = collections.Counter(dict(counts.most_common(vocab_size)))\n",
    "        \n",
    "    dictionary = dict()\n",
    "    \n",
    "    for word, _ in list(counts.items()):\n",
    "        dictionary[word] = len(dictionary)\n",
    "        \n",
    "    inverse_dictionary = dict(zip(dictionary.values(), dictionary.keys()))\n",
    "    \n",
    "    filtered_batch = []\n",
    "    lengths = []\n",
    "    \n",
    "    for s in batch:\n",
    "        s_ = [dictionary[x] for x in s if x in dictionary]\n",
    "        \n",
    "        # edge case handling, infrequent token filter pushes seq len below min\n",
    "        if len(s_) < min_seq_len:\n",
    "            counts -= collections.Counter(s_)\n",
    "            continue\n",
    "        \n",
    "        filtered_batch.append(s_)\n",
    "        lengths.append(len(s_))\n",
    "    \n",
    "    return filtered_batch, counts, lengths, dictionary, inverse_dictionary"
   ]
  },
  {
   "cell_type": "code",
   "execution_count": 187,
   "metadata": {},
   "outputs": [],
   "source": [
    "_, counts_raw, lengths_raw, _, _ = filter_sequences(sequences)\n",
    "batch, counts, lengths, icd2idx, idx2icd = filter_sequences(sequences,\n",
    "                                                           vocab_size=500,\n",
    "                                                           min_seq_len=250,\n",
    "                                                           max_seq_len=500)"
   ]
  },
  {
   "cell_type": "code",
   "execution_count": 188,
   "metadata": {},
   "outputs": [
    {
     "data": {
      "text/plain": [
       "Text(0.5,1,'Filtered Sequence Lengths')"
      ]
     },
     "execution_count": 188,
     "metadata": {},
     "output_type": "execute_result"
    },
    {
     "data": {
      "image/png": "[encoded data removed]",
      "text/plain": [
       "<matplotlib.figure.Figure at 0x13b280588>"
      ]
     },
     "metadata": {},
     "output_type": "display_data"
    }
   ],
   "source": [
    "f, (ax1, ax2) = plt.subplots(1,2,figsize=(15,5))\n",
    "ax1.hist(lengths_raw, color='r', bins='auto')\n",
    "ax1.set_title(\"Sequence Lengths\")\n",
    "ax2.hist(lengths, color='b', bins='auto')\n",
    "ax2.set_title(\"Filtered Sequence Lengths\")"
   ]
  },
  {
   "cell_type": "code",
   "execution_count": 189,
   "metadata": {},
   "outputs": [
    {
     "data": {
      "text/plain": [
       "Text(0.5,1,'Filtered Event Counts')"
      ]
     },
     "execution_count": 189,
     "metadata": {},
     "output_type": "execute_result"
    },
    {
     "data": {
      "image/png": "[encoded data removed]",
      "text/plain": [
       "<matplotlib.figure.Figure at 0x135b27828>"
      ]
     },
     "metadata": {},
     "output_type": "display_data"
    }
   ],
   "source": [
    "f, (ax1, ax2) = plt.subplots(1,2,figsize=(15,5))\n",
    "ax1.hist([c for i, c in counts_raw.items()], color='r', bins='auto')\n",
    "ax2.hist([c for i, c in counts.items()], color='b', bins='auto')\n",
    "ax1.set_title(\"Event Counts\")\n",
    "ax2.set_title(\"Filtered Event Counts\")"
   ]
  },
  {
   "cell_type": "markdown",
   "metadata": {},
   "source": [
    "# Skip-Gram Word Embeddings"
   ]
  },
  {
   "cell_type": "code",
   "execution_count": 190,
   "metadata": {},
   "outputs": [],
   "source": [
    "def to_one_hot(vocab_size):\n",
    "    def f(idx):\n",
    "        zeros = np.zeros(vocab_size)\n",
    "        zeros[idx] = 1\n",
    "        return zeros\n",
    "\n",
    "    return f\n",
    "\n",
    "def build_skipgrams(sequences, vocab_size, one_hot=False):\n",
    "    ''' This constructs simple skip grams,\n",
    "    assumes max 2 skips per word; skip window of one.\n",
    "    For every word x, produce two y = neighbors(x).\n",
    "    both x_train and y_train will be matricies with shape (n, d)\n",
    "    where d is the size of the vocabulary and n is resultant sample size'''\n",
    "    data = []\n",
    "    for seq in sequences:\n",
    "        for i in range(len(seq) - 1):\n",
    "            data.append((seq[i], seq[i + 1]))\n",
    "            data.append((seq[i + 1], seq[i]))\n",
    "\n",
    "    if one_hot:\n",
    "        vectorize = to_one_hot(vocab_size)\n",
    "        x_train = []\n",
    "        y_train = []\n",
    "\n",
    "        for d in data:\n",
    "            x_train.append(vectorize(d[0]))\n",
    "            y_train.append(vectorize(d[1]))\n",
    "        x_train = np.asarray(x_train)\n",
    "        y_train = np.asarray(y_train)\n",
    "\n",
    "    else:\n",
    "        x_train = np.asarray(data)[:, 0]\n",
    "        y_train = np.asarray(data)[:, 1]\n",
    "\n",
    "    return x_train, y_train"
   ]
  },
  {
   "cell_type": "markdown",
   "metadata": {},
   "source": [
    "## Maximum Likelihood Estimation"
   ]
  },
  {
   "cell_type": "code",
   "execution_count": 251,
   "metadata": {},
   "outputs": [],
   "source": [
    "vocab_size = len(counts)\n",
    "x_train, y_train = build_skipgrams(batch, vocab_size, one_hot=True)"
   ]
  },
  {
   "cell_type": "code",
   "execution_count": 233,
   "metadata": {},
   "outputs": [
    {
     "data": {
      "text/plain": [
       "[<matplotlib.lines.Line2D at 0x138320358>]"
      ]
     },
     "execution_count": 233,
     "metadata": {},
     "output_type": "execute_result"
    },
    {
     "data": {
      "image/png": "[encoded data removed]",
      "text/plain": [
       "<matplotlib.figure.Figure at 0x12e6c9630>"
      ]
     },
     "metadata": {},
     "output_type": "display_data"
    }
   ],
   "source": [
    "embedding_dim = 32\n",
    "\n",
    "x = tf.keras.layers.Input(shape=(vocab_size,))\n",
    "embedding = tf.keras.layers.Dense(embedding_dim)(x)\n",
    "y_pred = tf.keras.layers.Dense(vocab_size, activation='softmax')(embedding)\n",
    "model = tf.keras.models.Model(x, y_pred)\n",
    "model.compile(optimizer='adam', loss='categorical_crossentropy')\n",
    "\n",
    "hist = model.fit(x_train[:1000], y_train[:1000],\n",
    "                 batch_size=64,\n",
    "                 epochs=200,\n",
    "                verbose=0)\n",
    "\n",
    "plt.plot(hist.history['loss'])"
   ]
  },
  {
   "cell_type": "code",
   "execution_count": 229,
   "metadata": {},
   "outputs": [],
   "source": [
    "embed = tf.keras.models.Model(x, embedding)\n",
    "\n",
    "train_idx = range(1000)#np.random.randint(0, x_train.shape[0], 1000)\n",
    "x_embed = embed.predict(x_train[train_idx])"
   ]
  },
  {
   "cell_type": "code",
   "execution_count": 230,
   "metadata": {},
   "outputs": [],
   "source": [
    "tsne = TSNE(perplexity=30, n_components=2, init='pca', n_iter=250)\n",
    "low_dim_embeds = tsne.fit_transform(x_embed)"
   ]
  },
  {
   "cell_type": "code",
   "execution_count": 231,
   "metadata": {},
   "outputs": [
    {
     "name": "stdout",
     "output_type": "stream",
     "text": [
      "NB clusters:  26\n",
      "Silhouette Score: 0.3945351541042328\n"
     ]
    }
   ],
   "source": [
    "rescaled = StandardScaler().fit_transform(x_embed)\n",
    "db = DBSCAN(eps=.15, min_samples=10).fit(rescaled)\n",
    "labels = db.labels_\n",
    "silhouette = silhouette_score(rescaled, labels) if len(np.unique(db.labels_)) > 1 else 0.0\n",
    "\n",
    "print(\"NB clusters: \", len(np.unique(labels)))\n",
    "print(\"Silhouette Score: {}\".format(silhouette))"
   ]
  },
  {
   "cell_type": "code",
   "execution_count": 232,
   "metadata": {},
   "outputs": [
    {
     "data": {
      "text/plain": [
       "<matplotlib.collections.PathCollection at 0x13fb7c710>"
      ]
     },
     "execution_count": 232,
     "metadata": {},
     "output_type": "execute_result"
    },
    {
     "data": {
      "image/png": "[encoded data removed]",
      "text/plain": [
       "<matplotlib.figure.Figure at 0x144fcd780>"
      ]
     },
     "metadata": {},
     "output_type": "display_data"
    }
   ],
   "source": [
    "plt.figure(figsize=(10,10))\n",
    "plt.scatter(low_dim_embeds[:,0], low_dim_embeds[:,1], c=labels)"
   ]
  },
  {
   "cell_type": "markdown",
   "metadata": {},
   "source": [
    "## Noise Contrastive Estimation"
   ]
  },
  {
   "cell_type": "code",
   "execution_count": 238,
   "metadata": {},
   "outputs": [],
   "source": [
    "vocab_size = len(counts)\n",
    "x_train, y_train = build_skipgrams(batch, vocab_size, one_hot=False)"
   ]
  },
  {
   "cell_type": "code",
   "execution_count": null,
   "metadata": {},
   "outputs": [],
   "source": [
    "embedding_dim = 32\n",
    "num_sampled = 64 # Noise samples per positive example\n",
    "\n",
    "x = tf.keras.layers.Input(shape=(None,))\n",
    "embedding = tf.keras.layers.Embedding(vocab_size, embedding_dim)(x)\n",
    "\n",
    "\n",
    "y_pred = tf.keras.layers.Dense(vocab_size, activation='softmax')(embedding)\n",
    "model = tf.keras.models.Model(x, y_pred)\n",
    "model.compile(optimizer='adam', loss='categorical_crossentropy')\n",
    "\n",
    "hist = model.fit(x_train[:100], y_train[:100],\n",
    "                 batch_size=64,\n",
    "                 epochs=200,\n",
    "                verbose=0)\n",
    "\n",
    "plt.plot(hist.history['loss'])\n",
    "\n",
    "\n",
    "#####################################\n",
    "graph = tf.Graph()\n",
    "with graph.as_default():\n",
    "    x = tf.placeholder(tf.int32, shape=(batch_size))\n",
    "    y = tf.placeholder(tf.int32, shape=(batch_size, 1))\n",
    "\n",
    "    e_params = tf.Variable(tf.random_uniform([vocab_size + 1, embedding_dim], -1.0, 1.0))\n",
    "    embedding = tf.nn.embedding_lookup(e_params, x)\n",
    "\n",
    "    W = tf.Variable(tf.truncated_normal([vocab_size + 1], stddev=1.0 / np.sqrt(embedding_dim)))\n",
    "    b = tf.Variable(tf.zeros([vocab_size + 1]))\n",
    "    \n",
    "    tf.keras.losses.\n",
    "\n",
    "    loss = tf.reduce_mean(tf.nn.nce_loss(W, b, labels=y,\n",
    "                                         inputs=embedding,\n",
    "                                         num_sampled=num_sampled,\n",
    "                                         num_classes=vocab_size+1))\n",
    "\n",
    "    optimizer = tf.train.GradientDescentOptimizer(1.0).minimize(loss)\n",
    "\n",
    "    init = tf.global_variables_initializer()"
   ]
  },
  {
   "cell_type": "markdown",
   "metadata": {},
   "source": [
    "# Seq2Seq Autoencoder Embedding"
   ]
  },
  {
   "cell_type": "code",
   "execution_count": 247,
   "metadata": {},
   "outputs": [],
   "source": [
    "def to_onehot_tensor(sequences, vocab_size, maxlen):\n",
    "    ''' Maps a list of N lists with arbitrary length \n",
    "    to a tensor with shape (N, vocab_size, maxlen)'''\n",
    "    onehot_tensor = np.zeros((len(sequences), vocab_size, maxlen))\n",
    "    \n",
    "    for i, seq in enumerate(sequences):\n",
    "        for j, idx in enumerate(seq):\n",
    "            onehot_tensor[i,idx,j] = 1.0\n",
    "\n",
    "    return onehot_tensor, onehot_tensor"
   ]
  },
  {
   "cell_type": "code",
   "execution_count": 258,
   "metadata": {
    "scrolled": true
   },
   "outputs": [],
   "source": [
    "vocab_size = len(counts)\n",
    "maxlen = max(lengths)\n",
    "\n",
    "x_train, y_train = to_onehot_tensor(batch, vocab_size, maxlen)"
   ]
  },
  {
   "cell_type": "code",
   "execution_count": 262,
   "metadata": {},
   "outputs": [
    {
     "data": {
      "text/plain": [
       "1260524"
      ]
     },
     "execution_count": 262,
     "metadata": {},
     "output_type": "execute_result"
    }
   ],
   "source": [
    "model.count_params()"
   ]
  },
  {
   "cell_type": "code",
   "execution_count": 261,
   "metadata": {},
   "outputs": [],
   "source": [
    "embedding_dim = 2\n",
    "hidden_dim = 32\n",
    "\n",
    "x = tf.keras.layers.Input(shape=(vocab_size, maxlen))\n",
    "encoder = tf.keras.layers.LSTM(embedding_dim)(x)\n",
    "embedding = tf.keras.layers.RepeatVector(maxlen)(encoder)\n",
    "decoder = tf.keras.layers.LSTM(vocab_size, return_sequences=True)(embedding)\n",
    "y_pred = tf.keras.layers.Dense(vocab_size, activation='softmax')(decoder)\n",
    "model = tf.keras.models.Model(x, y_pred)\n",
    "model.compile(optimizer='adam', loss='categorical_crossentropy')\n",
    "\n",
    "# hist = model.fit(x_train[:100], y_train[:100],\n",
    "#                  batch_size=64,\n",
    "#                  epochs=200,\n",
    "#                 verbose=0)\n",
    "\n",
    "# plt.plot(hist.history['loss'])"
   ]
  },
  {
   "cell_type": "markdown",
   "metadata": {},
   "source": [
    "## "
   ]
  }
 ],
 "metadata": {
  "kernelspec": {
   "display_name": "Python [conda env:gatech]",
   "language": "python",
   "name": "conda-env-gatech-py"
  },
  "language_info": {
   "codemirror_mode": {
    "name": "ipython",
    "version": 3
   },
   "file_extension": ".py",
   "mimetype": "text/x-python",
   "name": "python",
   "nbconvert_exporter": "python",
   "pygments_lexer": "ipython3",
   "version": "3.6.3"
  }
 },
 "nbformat": 4,
 "nbformat_minor": 2
}
