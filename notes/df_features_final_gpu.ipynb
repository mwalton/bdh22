{
 "cells": [
  {
   "cell_type": "markdown",
   "metadata": {},
   "source": [
    "### TODO:\n",
    "Girish\n",
    "- ~~Dataset construction~~\n",
    "\n",
    "Mike\n",
    "- ~~implement build_sequences & build_skipgrams~~\n",
    "- ~~softmax word embeddings~~\n",
    "- ~~implement to_onehot_tensor~~\n",
    "- ~~seq2seq autoencoder~~\n",
    "\n",
    "Guowei\n",
    "- clustering & metrics\n",
    "- low dimensional PCA / MDN / TSNE visualizations"
   ]
  },
  {
   "cell_type": "code",
   "execution_count": 1,
   "metadata": {},
   "outputs": [
    {
     "name": "stdout",
     "output_type": "stream",
     "text": [
      "df_features_final.tsv  modeling_data.tsv\r\n"
     ]
    }
   ],
   "source": [
    "# ensure everything is where it should be\n",
    "!ls /data"
   ]
  },
  {
   "cell_type": "code",
   "execution_count": 4,
   "metadata": {},
   "outputs": [
    {
     "name": "stdout",
     "output_type": "stream",
     "text": [
      "Sun Dec 10 21:13:58 2017       \r\n",
      "+-----------------------------------------------------------------------------+\r\n",
      "| NVIDIA-SMI 384.98                 Driver Version: 384.98                    |\r\n",
      "|-------------------------------+----------------------+----------------------+\r\n",
      "| GPU  Name        Persistence-M| Bus-Id        Disp.A | Volatile Uncorr. ECC |\r\n",
      "| Fan  Temp  Perf  Pwr:Usage/Cap|         Memory-Usage | GPU-Util  Compute M. |\r\n",
      "|===============================+======================+======================|\r\n",
      "|   0  Tesla K80           Off  | 00000000:00:1E.0 Off |                    0 |\r\n",
      "| N/A   36C    P8    32W / 149W |     11MiB / 11439MiB |      0%      Default |\r\n",
      "+-------------------------------+----------------------+----------------------+\r\n",
      "                                                                               \r\n",
      "+-----------------------------------------------------------------------------+\r\n",
      "| Processes:                                                       GPU Memory |\r\n",
      "|  GPU       PID   Type   Process name                             Usage      |\r\n",
      "|=============================================================================|\r\n",
      "|  No running processes found                                                 |\r\n",
      "+-----------------------------------------------------------------------------+\r\n"
     ]
    }
   ],
   "source": [
    "# check gpus\n",
    "!nvidia-smi"
   ]
  },
  {
   "cell_type": "code",
   "execution_count": 3,
   "metadata": {},
   "outputs": [],
   "source": [
    "import pandas as pd\n",
    "import matplotlib.pyplot as plt\n",
    "import numpy as np\n",
    "import collections\n",
    "import tensorflow as tf\n",
    "from sklearn.manifold import TSNE\n",
    "from sklearn.cluster import DBSCAN, KMeans\n",
    "from sklearn.preprocessing import StandardScaler\n",
    "from sklearn.metrics import silhouette_samples, silhouette_score\n",
    "%matplotlib inline\n",
    "plt.style.use('ggplot')"
   ]
  },
  {
   "cell_type": "code",
   "execution_count": 6,
   "metadata": {},
   "outputs": [
    {
     "name": "stdout",
     "output_type": "stream",
     "text": [
      "CPU times: user 9.17 s, sys: 856 ms, total: 10 s\n",
      "Wall time: 10.1 s\n"
     ]
    }
   ],
   "source": [
    "chunks = pd.read_table('/data/df_features_final.tsv', sep='|', chunksize=1000)\n",
    "%time data = pd.concat(chunk for chunk in chunks)\n",
    "\n",
    "subj = 'df_features_final.subject_id'\n",
    "hadm = 'df_features_final.hadm_id'\n",
    "service = 'df_features_final.service'\n",
    "exp = 'df_features_final.expire_flag'\n",
    "seq_cnt = 'df_features_final.icd_seq_cnt'\n",
    "seq = 'df_features_final.icd_seq_str'\n",
    "data.reset_index(inplace=True)\n",
    "data.set_index([subj, hadm, service], inplace=True)\n",
    "sequences = data[seq]"
   ]
  },
  {
   "cell_type": "code",
   "execution_count": 7,
   "metadata": {},
   "outputs": [
    {
     "data": {
      "text/plain": [
       "MED      12329\n",
       "CMED      3736\n",
       "CSURG     3288\n",
       "SURG      2457\n",
       "NSURG     2182\n",
       "NMED      1522\n",
       "TRAUM     1255\n",
       "OMED      1021\n",
       "TSURG      644\n",
       "VSURG      543\n",
       "ORTHO      513\n",
       "GU         152\n",
       "ENT         86\n",
       "GYN         85\n",
       "PSURG       84\n",
       "OBS         38\n",
       "PSYCH        1\n",
       "DENT         1\n",
       "Name: df_features_final.service, dtype: int64"
      ]
     },
     "execution_count": 7,
     "metadata": {},
     "output_type": "execute_result"
    }
   ],
   "source": [
    "data.reset_index()[service].value_counts()"
   ]
  },
  {
   "cell_type": "code",
   "execution_count": 8,
   "metadata": {},
   "outputs": [
    {
     "data": {
      "text/plain": [
       "0    19286\n",
       "1    10651\n",
       "Name: df_features_final.expire_flag, dtype: int64"
      ]
     },
     "execution_count": 8,
     "metadata": {},
     "output_type": "execute_result"
    }
   ],
   "source": [
    "data.reset_index()[exp].value_counts()"
   ]
  },
  {
   "cell_type": "code",
   "execution_count": 9,
   "metadata": {
    "collapsed": true
   },
   "outputs": [],
   "source": [
    "def filter_sequences(series, vocab_size=None, min_seq_len=0,\n",
    "                     max_seq_len=float('Inf'), truncate=True):\n",
    "    ''' This function accepts a pandas Series object and filteres it by the following args:\n",
    "        vocab_size: drops tokens that occur with frequency less than the top vocab_size\n",
    "                    tokens in the dictionary\n",
    "        min_seq_len: drop sequences with less than min_seq_len\n",
    "        max_seq_len: truncate sequences longer than max_seq_len\n",
    "        truncate: if true; sequences with len > max_seq_len are truncated,\n",
    "                    else they are dropped\n",
    "        \n",
    "        Returns:\n",
    "        filtered_batch: list of tokenized sequence lists\n",
    "        counts: token frequencies\n",
    "        lengths: length of each sequence after filter\n",
    "        '''\n",
    "    max_len = 0\n",
    "    batch = []\n",
    "    counts = collections.Counter()\n",
    "    \n",
    "    for key, val in series.iteritems():\n",
    "        v = [int(x) for x in val.split(',')]\n",
    "        \n",
    "        if len(v) < min_seq_len:\n",
    "            continue\n",
    "        if len(v) > max_seq_len:\n",
    "            if truncate:\n",
    "                v = v[:max_seq_len]\n",
    "            else:\n",
    "                continue\n",
    "        counts += collections.Counter(v)\n",
    "        batch.append(v)\n",
    "    \n",
    "    if vocab_size != None:\n",
    "        counts = collections.Counter(dict(counts.most_common(vocab_size)))\n",
    "        \n",
    "    dictionary = dict()\n",
    "    \n",
    "    for word, _ in list(counts.items()):\n",
    "        dictionary[word] = len(dictionary)\n",
    "        \n",
    "    inverse_dictionary = dict(zip(dictionary.values(), dictionary.keys()))\n",
    "    \n",
    "    filtered_batch = []\n",
    "    lengths = []\n",
    "    \n",
    "    for s in batch:\n",
    "        s_ = [dictionary[x] for x in s if x in dictionary]\n",
    "        \n",
    "        # edge case handling, infrequent token filter pushes seq len below min\n",
    "        if len(s_) < min_seq_len:\n",
    "            counts -= collections.Counter(s_)\n",
    "            continue\n",
    "        \n",
    "        filtered_batch.append(s_)\n",
    "        lengths.append(len(s_))\n",
    "    \n",
    "    return filtered_batch, counts, lengths, dictionary, inverse_dictionary"
   ]
  },
  {
   "cell_type": "code",
   "execution_count": 10,
   "metadata": {},
   "outputs": [
    {
     "name": "stdout",
     "output_type": "stream",
     "text": [
      "CPU times: user 1min 17s, sys: 3.56 s, total: 1min 20s\n",
      "Wall time: 1min 20s\n"
     ]
    }
   ],
   "source": [
    "%time _, counts_raw, lengths_raw, _, _ = filter_sequences(sequences)"
   ]
  },
  {
   "cell_type": "code",
   "execution_count": 13,
   "metadata": {},
   "outputs": [
    {
     "name": "stdout",
     "output_type": "stream",
     "text": [
      "CPU times: user 1min 15s, sys: 2.56 s, total: 1min 18s\n",
      "Wall time: 1min 18s\n"
     ]
    }
   ],
   "source": [
    "vocab_size = 200\n",
    "min_seq_len = 100\n",
    "\n",
    "%time batch, counts, lengths, icd2idx, idx2icd = filter_sequences(sequences, vocab_size, min_seq_len)"
   ]
  },
  {
   "cell_type": "code",
   "execution_count": 14,
   "metadata": {},
   "outputs": [
    {
     "name": "stdout",
     "output_type": "stream",
     "text": [
      "nb unfiltered sequences 29937\n",
      "nb filtered sequences 27344\n"
     ]
    }
   ],
   "source": [
    "print(\"nb unfiltered sequences %d\" % len(data))\n",
    "print(\"nb filtered sequences %d\" % len(batch))"
   ]
  },
  {
   "cell_type": "code",
   "execution_count": 15,
   "metadata": {},
   "outputs": [
    {
     "data": {
      "text/plain": [
       "<matplotlib.text.Text at 0x7f149a94f2e8>"
      ]
     },
     "execution_count": 15,
     "metadata": {},
     "output_type": "execute_result"
    },
    {
     "data": {
      "image/png": "[encoded data removed]",
      "text/plain": [
       "<matplotlib.figure.Figure at 0x7f15a3b5b6d8>"
      ]
     },
     "metadata": {},
     "output_type": "display_data"
    }
   ],
   "source": [
    "f, (ax1, ax2) = plt.subplots(1,2,figsize=(15,5))\n",
    "ax1.hist(lengths_raw, color='r', bins='auto')\n",
    "ax1.set_title(\"Sequence Lengths\")\n",
    "ax2.hist(lengths, color='b', bins='auto')\n",
    "ax2.set_title(\"Filtered Sequence Lengths\")"
   ]
  },
  {
   "cell_type": "code",
   "execution_count": 16,
   "metadata": {},
   "outputs": [
    {
     "data": {
      "text/plain": [
       "<matplotlib.text.Text at 0x7f15a10551d0>"
      ]
     },
     "execution_count": 16,
     "metadata": {},
     "output_type": "execute_result"
    },
    {
     "data": {
      "image/png": "[encoded data removed]",
      "text/plain": [
       "<matplotlib.figure.Figure at 0x7f149a9fc908>"
      ]
     },
     "metadata": {},
     "output_type": "display_data"
    }
   ],
   "source": [
    "f, (ax1, ax2) = plt.subplots(1,2,figsize=(15,5))\n",
    "ax1.bar(range(len(counts_raw)), [c for i, c in counts_raw.items()], color='r')\n",
    "ax2.bar(range(len(counts)), [c for i, c in counts.items()], color='b')\n",
    "ax1.set_title(\"Event Counts\")\n",
    "ax2.set_title(\"Filtered Event Counts\")"
   ]
  },
  {
   "cell_type": "markdown",
   "metadata": {},
   "source": [
    "# Skip-Gram Word Embeddings"
   ]
  },
  {
   "cell_type": "code",
   "execution_count": 48,
   "metadata": {
    "collapsed": true
   },
   "outputs": [],
   "source": [
    "def to_one_hot(vocab_size):\n",
    "    def f(idx):\n",
    "        zeros = np.zeros(vocab_size)\n",
    "        zeros[idx] = 1\n",
    "        return zeros\n",
    "\n",
    "    return f\n",
    "\n",
    "def build_skipgrams(sequences, vocab_size, one_hot=False):\n",
    "    ''' This constructs simple skip grams,\n",
    "    assumes max 2 skips per word; skip window of one.\n",
    "    For every word x, produce two y = neighbors(x).\n",
    "    both x_train and y_train will be matricies with shape (n, d)\n",
    "    where d is the size of the vocabulary and n is resultant sample size'''\n",
    "    data = []\n",
    "    for seq in sequences:\n",
    "        for i in range(len(seq) - 1):\n",
    "            data.append((seq[i], seq[i + 1]))\n",
    "            data.append((seq[i + 1], seq[i]))\n",
    "\n",
    "    if one_hot:\n",
    "        vectorize = to_one_hot(vocab_size)\n",
    "        x_train = []\n",
    "        y_train = []\n",
    "\n",
    "        for d in data:\n",
    "            x_train.append(vectorize(d[0]))\n",
    "            y_train.append(vectorize(d[1]))\n",
    "        x_train = np.asarray(x_train)\n",
    "        y_train = np.asarray(y_train)\n",
    "\n",
    "    else:\n",
    "        x_train = np.asarray(data)[:, 0]\n",
    "        y_train = np.asarray(data)[:, 1]\n",
    "\n",
    "    return x_train, y_train"
   ]
  },
  {
   "cell_type": "code",
   "execution_count": null,
   "metadata": {
    "collapsed": true
   },
   "outputs": [],
   "source": [
    "vocab_size = len(counts)\n",
    "x_train, y_train = build_skipgrams(batch, vocab_size, one_hot=True)"
   ]
  },
  {
   "cell_type": "code",
   "execution_count": 233,
   "metadata": {},
   "outputs": [
    {
     "data": {
      "text/plain": [
       "[<matplotlib.lines.Line2D at 0x138320358>]"
      ]
     },
     "execution_count": 233,
     "metadata": {},
     "output_type": "execute_result"
    },
    {
     "data": {
      "image/png": "[encoded data removed]",
      "text/plain": [
       "<matplotlib.figure.Figure at 0x12e6c9630>"
      ]
     },
     "metadata": {},
     "output_type": "display_data"
    }
   ],
   "source": [
    "embedding_dim = 32\n",
    "\n",
    "x = tf.keras.layers.Input(shape=(vocab_size,))\n",
    "embedding = tf.keras.layers.Dense(embedding_dim)(x)\n",
    "y_pred = tf.keras.layers.Dense(vocab_size, activation='softmax')(embedding)\n",
    "model = tf.keras.models.Model(x, y_pred)\n",
    "model.compile(optimizer='adam', loss='categorical_crossentropy')\n",
    "\n",
    "hist = model.fit(x_train[:1000], y_train[:1000],\n",
    "                 batch_size=64,\n",
    "                 epochs=200,\n",
    "                verbose=0)\n",
    "\n",
    "plt.plot(hist.history['loss'])"
   ]
  },
  {
   "cell_type": "code",
   "execution_count": 229,
   "metadata": {
    "collapsed": true
   },
   "outputs": [],
   "source": [
    "embed = tf.keras.models.Model(x, embedding)\n",
    "\n",
    "train_idx = range(1000)#np.random.randint(0, x_train.shape[0], 1000)\n",
    "x_embed = embed.predict(x_train[train_idx])"
   ]
  },
  {
   "cell_type": "code",
   "execution_count": 230,
   "metadata": {
    "collapsed": true
   },
   "outputs": [],
   "source": [
    "tsne = TSNE(perplexity=30, n_components=2, init='pca', n_iter=250)\n",
    "low_dim_embeds = tsne.fit_transform(x_embed)"
   ]
  },
  {
   "cell_type": "code",
   "execution_count": 231,
   "metadata": {},
   "outputs": [
    {
     "name": "stdout",
     "output_type": "stream",
     "text": [
      "NB clusters:  26\n",
      "Silhouette Score: 0.3945351541042328\n"
     ]
    }
   ],
   "source": [
    "rescaled = StandardScaler().fit_transform(x_embed)\n",
    "db = DBSCAN(eps=.15, min_samples=10).fit(rescaled)\n",
    "labels = db.labels_\n",
    "silhouette = silhouette_score(rescaled, labels) if len(np.unique(db.labels_)) > 1 else 0.0\n",
    "\n",
    "print(\"NB clusters: \", len(np.unique(labels)))\n",
    "print(\"Silhouette Score: {}\".format(silhouette))"
   ]
  },
  {
   "cell_type": "code",
   "execution_count": 232,
   "metadata": {},
   "outputs": [
    {
     "data": {
      "text/plain": [
       "<matplotlib.collections.PathCollection at 0x13fb7c710>"
      ]
     },
     "execution_count": 232,
     "metadata": {},
     "output_type": "execute_result"
    },
    {
     "data": {
      "image/png": "[encoded data removed]",
      "text/plain": [
       "<matplotlib.figure.Figure at 0x144fcd780>"
      ]
     },
     "metadata": {},
     "output_type": "display_data"
    }
   ],
   "source": [
    "plt.figure(figsize=(10,10))\n",
    "plt.scatter(low_dim_embeds[:,0], low_dim_embeds[:,1], c=labels)"
   ]
  },
  {
   "cell_type": "markdown",
   "metadata": {},
   "source": [
    "# Seq2Seq Autoencoder Embedding"
   ]
  },
  {
   "cell_type": "code",
   "execution_count": 25,
   "metadata": {
    "collapsed": true
   },
   "outputs": [],
   "source": [
    "def to_onehot_tensor(sequences, maxlen, vocab_size):\n",
    "    ''' Maps a list of N lists with arbitrary length \n",
    "    to a tensor with shape (N, maxlen, vocab_size)'''\n",
    "    onehot_tensor = np.zeros((len(sequences), maxlen, vocab_size))\n",
    "    \n",
    "    for i, seq in enumerate(sequences):\n",
    "        for j, idx in enumerate(seq):\n",
    "            if j >= maxlen:\n",
    "                break\n",
    "            onehot_tensor[i,j,idx] = 1.0\n",
    "\n",
    "    return onehot_tensor"
   ]
  },
  {
   "cell_type": "code",
   "execution_count": 27,
   "metadata": {},
   "outputs": [
    {
     "data": {
      "text/plain": [
       "757036"
      ]
     },
     "execution_count": 27,
     "metadata": {},
     "output_type": "execute_result"
    }
   ],
   "source": [
    "max(lengths)"
   ]
  },
  {
   "cell_type": "code",
   "execution_count": 29,
   "metadata": {
    "scrolled": true
   },
   "outputs": [
    {
     "ename": "MemoryError",
     "evalue": "",
     "output_type": "error",
     "traceback": [
      "\u001b[0;31m---------------------------------------------------------------------------\u001b[0m",
      "\u001b[0;31mMemoryError\u001b[0m                               Traceback (most recent call last)",
      "\u001b[0;32m<timed exec>\u001b[0m in \u001b[0;36m<module>\u001b[0;34m()\u001b[0m\n",
      "\u001b[0;32m<ipython-input-25-37b68136e42c>\u001b[0m in \u001b[0;36mto_onehot_tensor\u001b[0;34m(sequences, maxlen, vocab_size)\u001b[0m\n\u001b[1;32m      2\u001b[0m     ''' Maps a list of N lists with arbitrary length \n\u001b[1;32m      3\u001b[0m     to a tensor with shape (N, maxlen, vocab_size)'''\n\u001b[0;32m----> 4\u001b[0;31m     \u001b[0monehot_tensor\u001b[0m \u001b[0;34m=\u001b[0m \u001b[0mnp\u001b[0m\u001b[0;34m.\u001b[0m\u001b[0mzeros\u001b[0m\u001b[0;34m(\u001b[0m\u001b[0;34m(\u001b[0m\u001b[0mlen\u001b[0m\u001b[0;34m(\u001b[0m\u001b[0msequences\u001b[0m\u001b[0;34m)\u001b[0m\u001b[0;34m,\u001b[0m \u001b[0mmaxlen\u001b[0m\u001b[0;34m,\u001b[0m \u001b[0mvocab_size\u001b[0m\u001b[0;34m)\u001b[0m\u001b[0;34m)\u001b[0m\u001b[0;34m\u001b[0m\u001b[0m\n\u001b[0m\u001b[1;32m      5\u001b[0m \u001b[0;34m\u001b[0m\u001b[0m\n\u001b[1;32m      6\u001b[0m     \u001b[0;32mfor\u001b[0m \u001b[0mi\u001b[0m\u001b[0;34m,\u001b[0m \u001b[0mseq\u001b[0m \u001b[0;32min\u001b[0m \u001b[0menumerate\u001b[0m\u001b[0;34m(\u001b[0m\u001b[0msequences\u001b[0m\u001b[0;34m)\u001b[0m\u001b[0;34m:\u001b[0m\u001b[0;34m\u001b[0m\u001b[0m\n",
      "\u001b[0;31mMemoryError\u001b[0m: "
     ]
    },
    {
     "name": "stdout",
     "output_type": "stream",
     "text": [
      "(273440, 100, 200)\n"
     ]
    }
   ],
   "source": [
    "vocab_size = len(counts)\n",
    "maxlen = 1000\n",
    "targetlen = 100\n",
    "\n",
    "%time x_train = to_onehot_tensor(batch, maxlen, vocab_size).reshape(-1, targetlen, vocab_size)\n",
    "print(x_train.shape)"
   ]
  },
  {
   "cell_type": "code",
   "execution_count": 31,
   "metadata": {},
   "outputs": [
    {
     "data": {
      "text/plain": [
       "'1.1.0'"
      ]
     },
     "execution_count": 31,
     "metadata": {},
     "output_type": "execute_result"
    }
   ],
   "source": [
    "tf.__version__"
   ]
  },
  {
   "cell_type": "code",
   "execution_count": 30,
   "metadata": {},
   "outputs": [
    {
     "ename": "AttributeError",
     "evalue": "module 'tensorflow' has no attribute 'keras'",
     "output_type": "error",
     "traceback": [
      "\u001b[0;31m---------------------------------------------------------------------------\u001b[0m",
      "\u001b[0;31mAttributeError\u001b[0m                            Traceback (most recent call last)",
      "\u001b[0;32m<ipython-input-30-2f722f99b5a2>\u001b[0m in \u001b[0;36m<module>\u001b[0;34m()\u001b[0m\n\u001b[1;32m      2\u001b[0m \u001b[0mhidden_dim\u001b[0m \u001b[0;34m=\u001b[0m \u001b[0;36m32\u001b[0m\u001b[0;34m\u001b[0m\u001b[0m\n\u001b[1;32m      3\u001b[0m \u001b[0;34m\u001b[0m\u001b[0m\n\u001b[0;32m----> 4\u001b[0;31m \u001b[0mx\u001b[0m \u001b[0;34m=\u001b[0m \u001b[0mtf\u001b[0m\u001b[0;34m.\u001b[0m\u001b[0mkeras\u001b[0m\u001b[0;34m.\u001b[0m\u001b[0mlayers\u001b[0m\u001b[0;34m.\u001b[0m\u001b[0mInput\u001b[0m\u001b[0;34m(\u001b[0m\u001b[0mshape\u001b[0m\u001b[0;34m=\u001b[0m\u001b[0;34m(\u001b[0m\u001b[0mtargetlen\u001b[0m\u001b[0;34m,\u001b[0m \u001b[0mvocab_size\u001b[0m\u001b[0;34m)\u001b[0m\u001b[0;34m)\u001b[0m\u001b[0;34m\u001b[0m\u001b[0m\n\u001b[0m\u001b[1;32m      5\u001b[0m \u001b[0mencoder\u001b[0m \u001b[0;34m=\u001b[0m \u001b[0mtf\u001b[0m\u001b[0;34m.\u001b[0m\u001b[0mkeras\u001b[0m\u001b[0;34m.\u001b[0m\u001b[0mlayers\u001b[0m\u001b[0;34m.\u001b[0m\u001b[0mLSTM\u001b[0m\u001b[0;34m(\u001b[0m\u001b[0membedding_dim\u001b[0m\u001b[0;34m)\u001b[0m\u001b[0;34m(\u001b[0m\u001b[0mx\u001b[0m\u001b[0;34m)\u001b[0m\u001b[0;34m\u001b[0m\u001b[0m\n\u001b[1;32m      6\u001b[0m \u001b[0membedding\u001b[0m \u001b[0;34m=\u001b[0m \u001b[0mtf\u001b[0m\u001b[0;34m.\u001b[0m\u001b[0mkeras\u001b[0m\u001b[0;34m.\u001b[0m\u001b[0mlayers\u001b[0m\u001b[0;34m.\u001b[0m\u001b[0mRepeatVector\u001b[0m\u001b[0;34m(\u001b[0m\u001b[0mtargetlen\u001b[0m\u001b[0;34m)\u001b[0m\u001b[0;34m(\u001b[0m\u001b[0mencoder\u001b[0m\u001b[0;34m)\u001b[0m\u001b[0;34m\u001b[0m\u001b[0m\n",
      "\u001b[0;31mAttributeError\u001b[0m: module 'tensorflow' has no attribute 'keras'"
     ]
    }
   ],
   "source": [
    "embedding_dim = 32\n",
    "hidden_dim = 32\n",
    "\n",
    "x = tf.keras.layers.Input(shape=(targetlen, vocab_size))\n",
    "encoder = tf.keras.layers.LSTM(embedding_dim)(x)\n",
    "embedding = tf.keras.layers.RepeatVector(targetlen)(encoder)\n",
    "decoder = tf.keras.layers.LSTM(hidden_dim, return_sequences=True)(embedding)\n",
    "y_pred = tf.keras.layers.Dense(vocab_size, activation='softmax')(decoder)\n",
    "model = tf.keras.models.Model(x, y_pred)\n",
    "model.compile(optimizer='adam', loss='categorical_crossentropy')\n",
    "\n",
    "hist = model.fit(x_train[:100], x_train[:100],\n",
    "                 batch_size=64,\n",
    "                 epochs=200)\n",
    "\n",
    "plt.plot(hist.history['loss'])"
   ]
  },
  {
   "cell_type": "code",
   "execution_count": 104,
   "metadata": {
    "collapsed": true
   },
   "outputs": [],
   "source": [
    "embed = tf.keras.models.Model(x, encoder)\n",
    "\n",
    "train_idx = range(1000)#np.random.randint(0, x_train.shape[0], 1000)\n",
    "x_embed = embed.predict(x_train[train_idx])"
   ]
  },
  {
   "cell_type": "code",
   "execution_count": 105,
   "metadata": {
    "collapsed": true
   },
   "outputs": [],
   "source": [
    "tsne = TSNE(perplexity=30, n_components=2, init='pca', n_iter=250)\n",
    "low_dim_embeds = tsne.fit_transform(x_embed)"
   ]
  },
  {
   "cell_type": "code",
   "execution_count": 106,
   "metadata": {},
   "outputs": [
    {
     "name": "stdout",
     "output_type": "stream",
     "text": [
      "NB clusters:  2\n",
      "Silhouette Score: 0.15728849172592163\n"
     ]
    }
   ],
   "source": [
    "rescaled = StandardScaler().fit_transform(x_embed)\n",
    "db = DBSCAN(eps=.15, min_samples=10).fit(rescaled)\n",
    "labels = db.labels_\n",
    "silhouette = silhouette_score(rescaled, labels) if len(np.unique(db.labels_)) > 1 else 0.0\n",
    "\n",
    "print(\"NB clusters: \", len(np.unique(labels)))\n",
    "print(\"Silhouette Score: {}\".format(silhouette))"
   ]
  },
  {
   "cell_type": "code",
   "execution_count": 107,
   "metadata": {},
   "outputs": [
    {
     "data": {
      "text/plain": [
       "<matplotlib.collections.PathCollection at 0x1a2f41a7b8>"
      ]
     },
     "execution_count": 107,
     "metadata": {},
     "output_type": "execute_result"
    },
    {
     "data": {
      "image/png": "[encoded data removed]",
      "text/plain": [
       "<matplotlib.figure.Figure at 0x1b35303c50>"
      ]
     },
     "metadata": {},
     "output_type": "display_data"
    }
   ],
   "source": [
    "plt.figure(figsize=(10,10))\n",
    "plt.scatter(low_dim_embeds[:,0], low_dim_embeds[:,1], c=labels)"
   ]
  },
  {
   "cell_type": "code",
   "execution_count": null,
   "metadata": {
    "collapsed": true
   },
   "outputs": [],
   "source": []
  }
 ],
 "metadata": {
  "kernelspec": {
   "display_name": "Python 3",
   "language": "python",
   "name": "python3"
  },
  "language_info": {
   "codemirror_mode": {
    "name": "ipython",
    "version": 3
   },
   "file_extension": ".py",
   "mimetype": "text/x-python",
   "name": "python",
   "nbconvert_exporter": "python",
   "pygments_lexer": "ipython3",
   "version": "3.5.3"
  }
 },
 "nbformat": 4,
 "nbformat_minor": 2
}
