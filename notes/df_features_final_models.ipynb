{
 "cells": [
  {
   "cell_type": "markdown",
   "metadata": {},
   "source": [
    "### TODO:\n",
    "Girish\n",
    "- ~~Dataset construction~~\n",
    "\n",
    "Mike\n",
    "- ~~implement build_sequences & build_skipgrams~~\n",
    "- ~~softmax word embeddings~~\n",
    "- ~~implement to_onehot_tensor~~\n",
    "- ~~seq2seq autoencoder~~\n",
    "\n",
    "Guowei\n",
    "- clustering & metrics\n",
    "- low dimensional PCA / MDN / TSNE visualizations"
   ]
  },
  {
   "cell_type": "code",
   "execution_count": 1,
   "metadata": {},
   "outputs": [
    {
     "name": "stderr",
     "output_type": "stream",
     "text": [
      "/Users/mwalton/miniconda3/envs/gatech/lib/python3.6/importlib/_bootstrap.py:219: RuntimeWarning: compiletime version 3.5 of module 'tensorflow.python.framework.fast_tensor_util' does not match runtime version 3.6\n",
      "  return f(*args, **kwds)\n"
     ]
    }
   ],
   "source": [
    "import pandas as pd\n",
    "import matplotlib.pyplot as plt\n",
    "import numpy as np\n",
    "import collections\n",
    "import tensorflow as tf\n",
    "from sklearn.manifold import TSNE\n",
    "from sklearn.cluster import DBSCAN, KMeans\n",
    "from sklearn.preprocessing import StandardScaler\n",
    "from sklearn.metrics import silhouette_samples, silhouette_score\n",
    "%matplotlib inline\n",
    "plt.style.use('ggplot')"
   ]
  },
  {
   "cell_type": "code",
   "execution_count": 41,
   "metadata": {},
   "outputs": [],
   "source": [
    "data = pd.DataFrame.from_csv('./df_features_final.tsv', sep='|')\n",
    "subj = 'df_features_final.subject_id'\n",
    "hadm = 'df_features_final.hadm_id'\n",
    "service = 'df_features_final.service'\n",
    "exp = 'df_features_final.expire_flag'\n",
    "seq_cnt = 'df_features_final.icd_seq_cnt'\n",
    "seq = 'df_features_final.icd_seq_str'\n",
    "data.reset_index(inplace=True)\n",
    "data.set_index([subj, hadm, service], inplace=True)\n",
    "sequences = data[seq].sample(1000)"
   ]
  },
  {
   "cell_type": "code",
   "execution_count": 112,
   "metadata": {},
   "outputs": [
    {
     "data": {
      "text/plain": [
       "MED      12329\n",
       "CMED      3736\n",
       "CSURG     3288\n",
       "SURG      2457\n",
       "NSURG     2182\n",
       "NMED      1522\n",
       "TRAUM     1255\n",
       "OMED      1021\n",
       "TSURG      644\n",
       "VSURG      543\n",
       "ORTHO      513\n",
       "GU         152\n",
       "ENT         86\n",
       "GYN         85\n",
       "PSURG       84\n",
       "OBS         38\n",
       "DENT         1\n",
       "PSYCH        1\n",
       "Name: df_features_final.service, dtype: int64"
      ]
     },
     "execution_count": 112,
     "metadata": {},
     "output_type": "execute_result"
    }
   ],
   "source": [
    "data.reset_index()[service].value_counts()"
   ]
  },
  {
   "cell_type": "code",
   "execution_count": 113,
   "metadata": {},
   "outputs": [
    {
     "data": {
      "text/plain": [
       "0    19286\n",
       "1    10651\n",
       "Name: df_features_final.expire_flag, dtype: int64"
      ]
     },
     "execution_count": 113,
     "metadata": {},
     "output_type": "execute_result"
    }
   ],
   "source": [
    "data.reset_index()[exp].value_counts()"
   ]
  },
  {
   "cell_type": "code",
   "execution_count": 42,
   "metadata": {},
   "outputs": [],
   "source": [
    "def filter_sequences(series, vocab_size=None, min_seq_len=0,\n",
    "                     max_seq_len=float('Inf'), truncate=True):\n",
    "    ''' This function accepts a pandas Series object and filteres it by the following args:\n",
    "        vocab_size: drops tokens that occur with frequency less than the top vocab_size\n",
    "                    tokens in the dictionary\n",
    "        min_seq_len: drop sequences with less than min_seq_len\n",
    "        max_seq_len: truncate sequences longer than max_seq_len\n",
    "        truncate: if true; sequences with len > max_seq_len are truncated,\n",
    "                    else they are dropped\n",
    "        \n",
    "        Returns:\n",
    "        filtered_batch: list of tokenized sequence lists\n",
    "        counts: token frequencies\n",
    "        lengths: length of each sequence after filter\n",
    "        '''\n",
    "    max_len = 0\n",
    "    batch = []\n",
    "    counts = collections.Counter()\n",
    "    \n",
    "    for key, val in series.iteritems():\n",
    "        v = [int(x) for x in val.split(',')]\n",
    "        \n",
    "        if len(v) < min_seq_len:\n",
    "            continue\n",
    "        if len(v) > max_seq_len:\n",
    "            if truncate:\n",
    "                v = v[:max_seq_len]\n",
    "            else:\n",
    "                continue\n",
    "        counts += collections.Counter(v)\n",
    "        batch.append(v)\n",
    "    \n",
    "    if vocab_size != None:\n",
    "        counts = collections.Counter(dict(counts.most_common(vocab_size)))\n",
    "        \n",
    "    dictionary = dict()\n",
    "    \n",
    "    for word, _ in list(counts.items()):\n",
    "        dictionary[word] = len(dictionary)\n",
    "        \n",
    "    inverse_dictionary = dict(zip(dictionary.values(), dictionary.keys()))\n",
    "    \n",
    "    filtered_batch = []\n",
    "    lengths = []\n",
    "    \n",
    "    for s in batch:\n",
    "        s_ = [dictionary[x] for x in s if x in dictionary]\n",
    "        \n",
    "        # edge case handling, infrequent token filter pushes seq len below min\n",
    "        if len(s_) < min_seq_len:\n",
    "            counts -= collections.Counter(s_)\n",
    "            continue\n",
    "        \n",
    "        filtered_batch.append(s_)\n",
    "        lengths.append(len(s_))\n",
    "    \n",
    "    return filtered_batch, counts, lengths, dictionary, inverse_dictionary"
   ]
  },
  {
   "cell_type": "code",
   "execution_count": 43,
   "metadata": {},
   "outputs": [],
   "source": [
    "_, counts_raw, lengths_raw, _, _ = filter_sequences(sequences)\n",
    "batch, counts, lengths, icd2idx, idx2icd = filter_sequences(sequences,\n",
    "                                                           vocab_size=200,\n",
    "                                                           min_seq_len=500,\n",
    "                                                           max_seq_len=1000,\n",
    "                                                           truncate=False)"
   ]
  },
  {
   "cell_type": "code",
   "execution_count": 47,
   "metadata": {},
   "outputs": [
    {
     "name": "stdout",
     "output_type": "stream",
     "text": [
      "nb unfiltered sequences 29937\n",
      "nb filtered sequences 4314\n"
     ]
    }
   ],
   "source": [
    "print(\"nb unfiltered sequences %d\" % len(data))\n",
    "print(\"nb filtered sequences %d\" % len(batch))"
   ]
  },
  {
   "cell_type": "code",
   "execution_count": 44,
   "metadata": {},
   "outputs": [
    {
     "data": {
      "text/plain": [
       "Text(0.5,1,'Filtered Sequence Lengths')"
      ]
     },
     "execution_count": 44,
     "metadata": {},
     "output_type": "execute_result"
    },
    {
     "data": {
      "image/png": "[encoded data removed]",
      "text/plain": [
       "<matplotlib.figure.Figure at 0x1a2d171fd0>"
      ]
     },
     "metadata": {},
     "output_type": "display_data"
    }
   ],
   "source": [
    "f, (ax1, ax2) = plt.subplots(1,2,figsize=(15,5))\n",
    "ax1.hist(lengths_raw, color='r', bins='auto')\n",
    "ax1.set_title(\"Sequence Lengths\")\n",
    "ax2.hist(lengths, color='b', bins='auto')\n",
    "ax2.set_title(\"Filtered Sequence Lengths\")"
   ]
  },
  {
   "cell_type": "code",
   "execution_count": 46,
   "metadata": {},
   "outputs": [
    {
     "data": {
      "text/plain": [
       "Text(0.5,1,'Filtered Event Counts')"
      ]
     },
     "execution_count": 46,
     "metadata": {},
     "output_type": "execute_result"
    },
    {
     "data": {
      "image/png": "[encoded data removed]",
      "text/plain": [
       "<matplotlib.figure.Figure at 0x1a2e4f5588>"
      ]
     },
     "metadata": {},
     "output_type": "display_data"
    }
   ],
   "source": [
    "f, (ax1, ax2) = plt.subplots(1,2,figsize=(15,5))\n",
    "ax1.bar(range(len(counts_raw)), [c for i, c in counts_raw.items()], color='r')\n",
    "ax2.bar(range(len(counts)), [c for i, c in counts.items()], color='b')\n",
    "ax1.set_title(\"Event Counts\")\n",
    "ax2.set_title(\"Filtered Event Counts\")"
   ]
  },
  {
   "cell_type": "markdown",
   "metadata": {},
   "source": [
    "# Skip-Gram Word Embeddings"
   ]
  },
  {
   "cell_type": "code",
   "execution_count": 48,
   "metadata": {},
   "outputs": [],
   "source": [
    "def to_one_hot(vocab_size):\n",
    "    def f(idx):\n",
    "        zeros = np.zeros(vocab_size)\n",
    "        zeros[idx] = 1\n",
    "        return zeros\n",
    "\n",
    "    return f\n",
    "\n",
    "def build_skipgrams(sequences, vocab_size, one_hot=False):\n",
    "    ''' This constructs simple skip grams,\n",
    "    assumes max 2 skips per word; skip window of one.\n",
    "    For every word x, produce two y = neighbors(x).\n",
    "    both x_train and y_train will be matricies with shape (n, d)\n",
    "    where d is the size of the vocabulary and n is resultant sample size'''\n",
    "    data = []\n",
    "    for seq in sequences:\n",
    "        for i in range(len(seq) - 1):\n",
    "            data.append((seq[i], seq[i + 1]))\n",
    "            data.append((seq[i + 1], seq[i]))\n",
    "\n",
    "    if one_hot:\n",
    "        vectorize = to_one_hot(vocab_size)\n",
    "        x_train = []\n",
    "        y_train = []\n",
    "\n",
    "        for d in data:\n",
    "            x_train.append(vectorize(d[0]))\n",
    "            y_train.append(vectorize(d[1]))\n",
    "        x_train = np.asarray(x_train)\n",
    "        y_train = np.asarray(y_train)\n",
    "\n",
    "    else:\n",
    "        x_train = np.asarray(data)[:, 0]\n",
    "        y_train = np.asarray(data)[:, 1]\n",
    "\n",
    "    return x_train, y_train"
   ]
  },
  {
   "cell_type": "code",
   "execution_count": null,
   "metadata": {},
   "outputs": [],
   "source": [
    "vocab_size = len(counts)\n",
    "x_train, y_train = build_skipgrams(batch, vocab_size, one_hot=True)"
   ]
  },
  {
   "cell_type": "code",
   "execution_count": 233,
   "metadata": {},
   "outputs": [
    {
     "data": {
      "text/plain": [
       "[<matplotlib.lines.Line2D at 0x138320358>]"
      ]
     },
     "execution_count": 233,
     "metadata": {},
     "output_type": "execute_result"
    },
    {
     "data": {
      "image/png": "[encoded data removed]",
      "text/plain": [
       "<matplotlib.figure.Figure at 0x12e6c9630>"
      ]
     },
     "metadata": {},
     "output_type": "display_data"
    }
   ],
   "source": [
    "embedding_dim = 32\n",
    "\n",
    "x = tf.keras.layers.Input(shape=(vocab_size,))\n",
    "embedding = tf.keras.layers.Dense(embedding_dim)(x)\n",
    "y_pred = tf.keras.layers.Dense(vocab_size, activation='softmax')(embedding)\n",
    "model = tf.keras.models.Model(x, y_pred)\n",
    "model.compile(optimizer='adam', loss='categorical_crossentropy')\n",
    "\n",
    "hist = model.fit(x_train[:1000], y_train[:1000],\n",
    "                 batch_size=64,\n",
    "                 epochs=200,\n",
    "                verbose=0)\n",
    "\n",
    "plt.plot(hist.history['loss'])"
   ]
  },
  {
   "cell_type": "code",
   "execution_count": 229,
   "metadata": {},
   "outputs": [],
   "source": [
    "embed = tf.keras.models.Model(x, embedding)\n",
    "\n",
    "train_idx = range(1000)#np.random.randint(0, x_train.shape[0], 1000)\n",
    "x_embed = embed.predict(x_train[train_idx])"
   ]
  },
  {
   "cell_type": "code",
   "execution_count": 230,
   "metadata": {},
   "outputs": [],
   "source": [
    "tsne = TSNE(perplexity=30, n_components=2, init='pca', n_iter=250)\n",
    "low_dim_embeds = tsne.fit_transform(x_embed)"
   ]
  },
  {
   "cell_type": "code",
   "execution_count": 231,
   "metadata": {},
   "outputs": [
    {
     "name": "stdout",
     "output_type": "stream",
     "text": [
      "NB clusters:  26\n",
      "Silhouette Score: 0.3945351541042328\n"
     ]
    }
   ],
   "source": [
    "rescaled = StandardScaler().fit_transform(x_embed)\n",
    "db = DBSCAN(eps=.15, min_samples=10).fit(rescaled)\n",
    "labels = db.labels_\n",
    "silhouette = silhouette_score(rescaled, labels) if len(np.unique(db.labels_)) > 1 else 0.0\n",
    "\n",
    "print(\"NB clusters: \", len(np.unique(labels)))\n",
    "print(\"Silhouette Score: {}\".format(silhouette))"
   ]
  },
  {
   "cell_type": "code",
   "execution_count": 232,
   "metadata": {},
   "outputs": [
    {
     "data": {
      "text/plain": [
       "<matplotlib.collections.PathCollection at 0x13fb7c710>"
      ]
     },
     "execution_count": 232,
     "metadata": {},
     "output_type": "execute_result"
    },
    {
     "data": {
      "image/png": "[encoded data removed]",
      "text/plain": [
       "<matplotlib.figure.Figure at 0x144fcd780>"
      ]
     },
     "metadata": {},
     "output_type": "display_data"
    }
   ],
   "source": [
    "plt.figure(figsize=(10,10))\n",
    "plt.scatter(low_dim_embeds[:,0], low_dim_embeds[:,1], c=labels)"
   ]
  },
  {
   "cell_type": "markdown",
   "metadata": {},
   "source": [
    "# Seq2Seq Autoencoder Embedding"
   ]
  },
  {
   "cell_type": "code",
   "execution_count": 88,
   "metadata": {},
   "outputs": [],
   "source": [
    "def to_onehot_tensor(sequences, maxlen, vocab_size):\n",
    "    ''' Maps a list of N lists with arbitrary length \n",
    "    to a tensor with shape (N, maxlen, vocab_size)'''\n",
    "    onehot_tensor = np.zeros((len(sequences), maxlen, vocab_size))\n",
    "    \n",
    "    for i, seq in enumerate(sequences):\n",
    "        for j, idx in enumerate(seq):\n",
    "            onehot_tensor[i,j,idx] = 1.0\n",
    "\n",
    "    return onehot_tensor"
   ]
  },
  {
   "cell_type": "code",
   "execution_count": 97,
   "metadata": {
    "scrolled": true
   },
   "outputs": [
    {
     "name": "stdout",
     "output_type": "stream",
     "text": [
      "(43140, 100, 200)\n"
     ]
    }
   ],
   "source": [
    "vocab_size = len(counts)\n",
    "maxlen = 1000\n",
    "targetlen = 100\n",
    "\n",
    "x_train = to_onehot_tensor(batch, maxlen, vocab_size).reshape(-1, targetlen, vocab_size)\n",
    "print(x_train.shape)"
   ]
  },
  {
   "cell_type": "code",
   "execution_count": 100,
   "metadata": {},
   "outputs": [
    {
     "name": "stdout",
     "output_type": "stream",
     "text": [
      "Epoch 1/200\n",
      "100/100 [==============================] - 2s - loss: 3.6875     \n",
      "Epoch 2/200\n",
      "100/100 [==============================] - 0s - loss: 3.6858     \n",
      "Epoch 3/200\n",
      "100/100 [==============================] - 0s - loss: 3.6841     \n",
      "Epoch 4/200\n",
      "100/100 [==============================] - 0s - loss: 3.6821     \n",
      "Epoch 5/200\n",
      "100/100 [==============================] - 0s - loss: 3.6796     \n",
      "Epoch 6/200\n",
      "100/100 [==============================] - 0s - loss: 3.6764     \n",
      "Epoch 7/200\n",
      "100/100 [==============================] - 0s - loss: 3.6721     \n",
      "Epoch 8/200\n",
      "100/100 [==============================] - 0s - loss: 3.6664     \n",
      "Epoch 9/200\n",
      "100/100 [==============================] - 0s - loss: 3.6581     \n",
      "Epoch 10/200\n",
      "100/100 [==============================] - 0s - loss: 3.6452     \n",
      "Epoch 11/200\n",
      "100/100 [==============================] - 0s - loss: 3.6255     \n",
      "Epoch 12/200\n",
      "100/100 [==============================] - 0s - loss: 3.5969     \n",
      "Epoch 13/200\n",
      "100/100 [==============================] - 0s - loss: 3.5614     \n",
      "Epoch 14/200\n",
      "100/100 [==============================] - 0s - loss: 3.5258     \n",
      "Epoch 15/200\n",
      "100/100 [==============================] - 0s - loss: 3.4992     \n",
      "Epoch 16/200\n",
      "100/100 [==============================] - 0s - loss: 3.4800     \n",
      "Epoch 17/200\n",
      "100/100 [==============================] - 0s - loss: 3.4637     \n",
      "Epoch 18/200\n",
      "100/100 [==============================] - 0s - loss: 3.4486     \n",
      "Epoch 19/200\n",
      "100/100 [==============================] - 0s - loss: 3.4348     \n",
      "Epoch 20/200\n",
      "100/100 [==============================] - 0s - loss: 3.4239     \n",
      "Epoch 21/200\n",
      "100/100 [==============================] - 0s - loss: 3.4147     \n",
      "Epoch 22/200\n",
      "100/100 [==============================] - 0s - loss: 3.4078     \n",
      "Epoch 23/200\n",
      "100/100 [==============================] - 0s - loss: 3.4031     \n",
      "Epoch 24/200\n",
      "100/100 [==============================] - 0s - loss: 3.3998     \n",
      "Epoch 25/200\n",
      "100/100 [==============================] - 0s - loss: 3.3972     \n",
      "Epoch 26/200\n",
      "100/100 [==============================] - 0s - loss: 3.3952     \n",
      "Epoch 27/200\n",
      "100/100 [==============================] - 0s - loss: 3.3937     \n",
      "Epoch 28/200\n",
      "100/100 [==============================] - 0s - loss: 3.3923     \n",
      "Epoch 29/200\n",
      "100/100 [==============================] - 0s - loss: 3.3912     \n",
      "Epoch 30/200\n",
      "100/100 [==============================] - 0s - loss: 3.3900     \n",
      "Epoch 31/200\n",
      "100/100 [==============================] - 0s - loss: 3.3889     \n",
      "Epoch 32/200\n",
      "100/100 [==============================] - 0s - loss: 3.3881     \n",
      "Epoch 33/200\n",
      "100/100 [==============================] - 0s - loss: 3.3875     \n",
      "Epoch 34/200\n",
      "100/100 [==============================] - 0s - loss: 3.3867     \n",
      "Epoch 35/200\n",
      "100/100 [==============================] - 0s - loss: 3.3862     \n",
      "Epoch 36/200\n",
      "100/100 [==============================] - 0s - loss: 3.3857     \n",
      "Epoch 37/200\n",
      "100/100 [==============================] - 0s - loss: 3.3853     \n",
      "Epoch 38/200\n",
      "100/100 [==============================] - 0s - loss: 3.3850     \n",
      "Epoch 39/200\n",
      "100/100 [==============================] - 0s - loss: 3.3846     \n",
      "Epoch 40/200\n",
      "100/100 [==============================] - 0s - loss: 3.3844     \n",
      "Epoch 41/200\n",
      "100/100 [==============================] - 0s - loss: 3.3839     \n",
      "Epoch 42/200\n",
      "100/100 [==============================] - 0s - loss: 3.3837     \n",
      "Epoch 43/200\n",
      "100/100 [==============================] - 0s - loss: 3.3835     \n",
      "Epoch 44/200\n",
      "100/100 [==============================] - 0s - loss: 3.3832     \n",
      "Epoch 45/200\n",
      "100/100 [==============================] - 0s - loss: 3.3831     \n",
      "Epoch 46/200\n",
      "100/100 [==============================] - 0s - loss: 3.3829     \n",
      "Epoch 47/200\n",
      "100/100 [==============================] - 0s - loss: 3.3827     \n",
      "Epoch 48/200\n",
      "100/100 [==============================] - 0s - loss: 3.3826     \n",
      "Epoch 49/200\n",
      "100/100 [==============================] - 0s - loss: 3.3824     \n",
      "Epoch 50/200\n",
      "100/100 [==============================] - 0s - loss: 3.3823     \n",
      "Epoch 51/200\n",
      "100/100 [==============================] - 0s - loss: 3.3822     \n",
      "Epoch 52/200\n",
      "100/100 [==============================] - 0s - loss: 3.3821     \n",
      "Epoch 53/200\n",
      "100/100 [==============================] - 0s - loss: 3.3819     \n",
      "Epoch 54/200\n",
      "100/100 [==============================] - 0s - loss: 3.3818     \n",
      "Epoch 55/200\n",
      "100/100 [==============================] - 0s - loss: 3.3817     \n",
      "Epoch 56/200\n",
      "100/100 [==============================] - 0s - loss: 3.3816     \n",
      "Epoch 57/200\n",
      "100/100 [==============================] - 0s - loss: 3.3815     \n",
      "Epoch 58/200\n",
      "100/100 [==============================] - 0s - loss: 3.3814     \n",
      "Epoch 59/200\n",
      "100/100 [==============================] - 0s - loss: 3.3813     \n",
      "Epoch 60/200\n",
      "100/100 [==============================] - 0s - loss: 3.3813     \n",
      "Epoch 61/200\n",
      "100/100 [==============================] - 0s - loss: 3.3812     \n",
      "Epoch 62/200\n",
      "100/100 [==============================] - 0s - loss: 3.3812     \n",
      "Epoch 63/200\n",
      "100/100 [==============================] - 0s - loss: 3.3811     \n",
      "Epoch 64/200\n",
      "100/100 [==============================] - 0s - loss: 3.3811     \n",
      "Epoch 65/200\n",
      "100/100 [==============================] - 0s - loss: 3.3810     \n",
      "Epoch 66/200\n",
      "100/100 [==============================] - 0s - loss: 3.3810     \n",
      "Epoch 67/200\n",
      "100/100 [==============================] - 0s - loss: 3.3810     \n",
      "Epoch 68/200\n",
      "100/100 [==============================] - 0s - loss: 3.3808     \n",
      "Epoch 69/200\n",
      "100/100 [==============================] - 0s - loss: 3.3808     \n",
      "Epoch 70/200\n",
      "100/100 [==============================] - 0s - loss: 3.3807     \n",
      "Epoch 71/200\n",
      "100/100 [==============================] - 0s - loss: 3.3806     \n",
      "Epoch 72/200\n",
      "100/100 [==============================] - 0s - loss: 3.3805     \n",
      "Epoch 73/200\n",
      "100/100 [==============================] - 0s - loss: 3.3804     \n",
      "Epoch 74/200\n",
      "100/100 [==============================] - 0s - loss: 3.3804     \n",
      "Epoch 75/200\n",
      "100/100 [==============================] - 0s - loss: 3.3803     \n",
      "Epoch 76/200\n",
      "100/100 [==============================] - 0s - loss: 3.3803     \n",
      "Epoch 77/200\n",
      "100/100 [==============================] - 0s - loss: 3.3803     \n",
      "Epoch 78/200\n",
      "100/100 [==============================] - 0s - loss: 3.3802     \n",
      "Epoch 79/200\n",
      "100/100 [==============================] - 0s - loss: 3.3801     \n",
      "Epoch 80/200\n",
      "100/100 [==============================] - 0s - loss: 3.3801     \n",
      "Epoch 81/200\n",
      "100/100 [==============================] - 0s - loss: 3.3800     \n",
      "Epoch 82/200\n",
      "100/100 [==============================] - 0s - loss: 3.3799     \n",
      "Epoch 83/200\n",
      "100/100 [==============================] - 0s - loss: 3.3797     \n",
      "Epoch 84/200\n",
      "100/100 [==============================] - 0s - loss: 3.3797     \n",
      "Epoch 85/200\n",
      "100/100 [==============================] - 0s - loss: 3.3794     \n",
      "Epoch 86/200\n",
      "100/100 [==============================] - 0s - loss: 3.3795     \n",
      "Epoch 87/200\n",
      "100/100 [==============================] - 0s - loss: 3.3791     \n",
      "Epoch 88/200\n",
      "100/100 [==============================] - 0s - loss: 3.3791     \n",
      "Epoch 89/200\n",
      "100/100 [==============================] - 0s - loss: 3.3785     \n",
      "Epoch 90/200\n",
      "100/100 [==============================] - 0s - loss: 3.3784     \n",
      "Epoch 91/200\n",
      "100/100 [==============================] - 0s - loss: 3.3781     \n",
      "Epoch 92/200\n",
      "100/100 [==============================] - 0s - loss: 3.3780     \n",
      "Epoch 93/200\n",
      "100/100 [==============================] - 0s - loss: 3.3777     \n",
      "Epoch 94/200\n",
      "100/100 [==============================] - 0s - loss: 3.3775     \n",
      "Epoch 95/200\n",
      "100/100 [==============================] - 0s - loss: 3.3784     \n",
      "Epoch 96/200\n",
      "100/100 [==============================] - 0s - loss: 3.3772     \n",
      "Epoch 97/200\n",
      "100/100 [==============================] - 0s - loss: 3.3764     \n",
      "Epoch 98/200\n",
      "100/100 [==============================] - 0s - loss: 3.3771     \n",
      "Epoch 99/200\n",
      "100/100 [==============================] - 0s - loss: 3.3763     \n",
      "Epoch 100/200\n",
      "100/100 [==============================] - 0s - loss: 3.3751     \n",
      "Epoch 101/200\n",
      "100/100 [==============================] - 0s - loss: 3.3748     \n",
      "Epoch 102/200\n",
      "100/100 [==============================] - 0s - loss: 3.3739     \n",
      "Epoch 103/200\n",
      "100/100 [==============================] - 0s - loss: 3.3735     \n",
      "Epoch 104/200\n"
     ]
    },
    {
     "name": "stdout",
     "output_type": "stream",
     "text": [
      "100/100 [==============================] - 0s - loss: 3.3728     \n",
      "Epoch 105/200\n",
      "100/100 [==============================] - 0s - loss: 3.3733     \n",
      "Epoch 106/200\n",
      "100/100 [==============================] - 0s - loss: 3.3725     \n",
      "Epoch 107/200\n",
      "100/100 [==============================] - 0s - loss: 3.3718     \n",
      "Epoch 108/200\n",
      "100/100 [==============================] - 0s - loss: 3.3710     \n",
      "Epoch 109/200\n",
      "100/100 [==============================] - 0s - loss: 3.3729     \n",
      "Epoch 110/200\n",
      "100/100 [==============================] - 0s - loss: 3.3713     \n",
      "Epoch 111/200\n",
      "100/100 [==============================] - 0s - loss: 3.3700     \n",
      "Epoch 112/200\n",
      "100/100 [==============================] - 0s - loss: 3.3831     \n",
      "Epoch 113/200\n",
      "100/100 [==============================] - 0s - loss: 3.3813     \n",
      "Epoch 114/200\n",
      "100/100 [==============================] - 0s - loss: 3.3803     \n",
      "Epoch 115/200\n",
      "100/100 [==============================] - 0s - loss: 3.3794     \n",
      "Epoch 116/200\n",
      "100/100 [==============================] - 0s - loss: 3.3788     \n",
      "Epoch 117/200\n",
      "100/100 [==============================] - 0s - loss: 3.3789     \n",
      "Epoch 118/200\n",
      "100/100 [==============================] - 0s - loss: 3.3788     \n",
      "Epoch 119/200\n",
      "100/100 [==============================] - 0s - loss: 3.3786     \n",
      "Epoch 120/200\n",
      "100/100 [==============================] - 0s - loss: 3.3784     \n",
      "Epoch 121/200\n",
      "100/100 [==============================] - 0s - loss: 3.3783     \n",
      "Epoch 122/200\n",
      "100/100 [==============================] - 0s - loss: 3.3783     \n",
      "Epoch 123/200\n",
      "100/100 [==============================] - 0s - loss: 3.3782     \n",
      "Epoch 124/200\n",
      "100/100 [==============================] - 0s - loss: 3.3781     \n",
      "Epoch 125/200\n",
      "100/100 [==============================] - 0s - loss: 3.3779     \n",
      "Epoch 126/200\n",
      "100/100 [==============================] - 0s - loss: 3.3778     \n",
      "Epoch 127/200\n",
      "100/100 [==============================] - 0s - loss: 3.3776     \n",
      "Epoch 128/200\n",
      "100/100 [==============================] - 0s - loss: 3.3776     \n",
      "Epoch 129/200\n",
      "100/100 [==============================] - 0s - loss: 3.3774     \n",
      "Epoch 130/200\n",
      "100/100 [==============================] - 0s - loss: 3.3772     \n",
      "Epoch 131/200\n",
      "100/100 [==============================] - 0s - loss: 3.3770     \n",
      "Epoch 132/200\n",
      "100/100 [==============================] - 0s - loss: 3.3767     \n",
      "Epoch 133/200\n",
      "100/100 [==============================] - 0s - loss: 3.3764     \n",
      "Epoch 134/200\n",
      "100/100 [==============================] - 0s - loss: 3.3762     \n",
      "Epoch 135/200\n",
      "100/100 [==============================] - 0s - loss: 3.3757     \n",
      "Epoch 136/200\n",
      "100/100 [==============================] - 0s - loss: 3.3751     \n",
      "Epoch 137/200\n",
      "100/100 [==============================] - 0s - loss: 3.3748     \n",
      "Epoch 138/200\n",
      "100/100 [==============================] - 0s - loss: 3.3745     \n",
      "Epoch 139/200\n",
      "100/100 [==============================] - 0s - loss: 3.3742     \n",
      "Epoch 140/200\n",
      "100/100 [==============================] - 0s - loss: 3.3724     \n",
      "Epoch 141/200\n",
      "100/100 [==============================] - 0s - loss: 3.3734     \n",
      "Epoch 142/200\n",
      "100/100 [==============================] - 0s - loss: 3.3709     \n",
      "Epoch 143/200\n",
      "100/100 [==============================] - 0s - loss: 3.3753     \n",
      "Epoch 144/200\n",
      "100/100 [==============================] - 0s - loss: 3.3728     \n",
      "Epoch 145/200\n",
      "100/100 [==============================] - 0s - loss: 3.3757     \n",
      "Epoch 146/200\n",
      "100/100 [==============================] - 0s - loss: 3.3693     \n",
      "Epoch 147/200\n",
      "100/100 [==============================] - 0s - loss: 3.3692     \n",
      "Epoch 148/200\n",
      "100/100 [==============================] - 0s - loss: 3.3715     \n",
      "Epoch 149/200\n",
      "100/100 [==============================] - 0s - loss: 3.3771     \n",
      "Epoch 150/200\n",
      "100/100 [==============================] - 0s - loss: 3.3794     \n",
      "Epoch 151/200\n",
      "100/100 [==============================] - 0s - loss: 3.3788     \n",
      "Epoch 152/200\n",
      "100/100 [==============================] - 0s - loss: 3.3773     \n",
      "Epoch 153/200\n",
      "100/100 [==============================] - 0s - loss: 3.3756     \n",
      "Epoch 154/200\n",
      "100/100 [==============================] - 0s - loss: 3.3776     \n",
      "Epoch 155/200\n",
      "100/100 [==============================] - 0s - loss: 3.3869     \n",
      "Epoch 156/200\n",
      "100/100 [==============================] - 0s - loss: 3.3815     \n",
      "Epoch 157/200\n",
      "100/100 [==============================] - 0s - loss: 3.3790     \n",
      "Epoch 158/200\n",
      "100/100 [==============================] - 0s - loss: 3.3754     \n",
      "Epoch 159/200\n",
      "100/100 [==============================] - 0s - loss: 3.3724     \n",
      "Epoch 160/200\n",
      "100/100 [==============================] - 0s - loss: 3.3709     \n",
      "Epoch 161/200\n",
      "100/100 [==============================] - 0s - loss: 3.3701     \n",
      "Epoch 162/200\n",
      "100/100 [==============================] - 0s - loss: 3.3676     \n",
      "Epoch 163/200\n",
      "100/100 [==============================] - 0s - loss: 3.3666     \n",
      "Epoch 164/200\n",
      "100/100 [==============================] - 0s - loss: 3.3652     \n",
      "Epoch 165/200\n",
      "100/100 [==============================] - 0s - loss: 3.3648     \n",
      "Epoch 166/200\n",
      "100/100 [==============================] - 0s - loss: 3.3637     \n",
      "Epoch 167/200\n",
      "100/100 [==============================] - 0s - loss: 3.3642     \n",
      "Epoch 168/200\n",
      "100/100 [==============================] - 0s - loss: 3.3634     \n",
      "Epoch 169/200\n",
      "100/100 [==============================] - 0s - loss: 3.3613     \n",
      "Epoch 170/200\n",
      "100/100 [==============================] - 0s - loss: 3.3639     \n",
      "Epoch 171/200\n",
      "100/100 [==============================] - 0s - loss: 3.3612     \n",
      "Epoch 172/200\n",
      "100/100 [==============================] - 0s - loss: 3.3599     \n",
      "Epoch 173/200\n",
      "100/100 [==============================] - 0s - loss: 3.3616     \n",
      "Epoch 174/200\n",
      "100/100 [==============================] - 0s - loss: 3.3599     \n",
      "Epoch 175/200\n",
      "100/100 [==============================] - 0s - loss: 3.3671     \n",
      "Epoch 176/200\n",
      "100/100 [==============================] - 0s - loss: 3.3621     \n",
      "Epoch 177/200\n",
      "100/100 [==============================] - 0s - loss: 3.3632     \n",
      "Epoch 178/200\n",
      "100/100 [==============================] - 0s - loss: 3.3684     \n",
      "Epoch 179/200\n",
      "100/100 [==============================] - 0s - loss: 3.3606     \n",
      "Epoch 180/200\n",
      "100/100 [==============================] - 0s - loss: 3.3585     \n",
      "Epoch 181/200\n",
      "100/100 [==============================] - 0s - loss: 3.3593     \n",
      "Epoch 182/200\n",
      "100/100 [==============================] - 0s - loss: 3.3574     \n",
      "Epoch 183/200\n",
      "100/100 [==============================] - 0s - loss: 3.3602     \n",
      "Epoch 184/200\n",
      "100/100 [==============================] - 0s - loss: 3.3581     \n",
      "Epoch 185/200\n",
      "100/100 [==============================] - 0s - loss: 3.3638     \n",
      "Epoch 186/200\n",
      "100/100 [==============================] - 0s - loss: 3.3577     \n",
      "Epoch 187/200\n",
      "100/100 [==============================] - 0s - loss: 3.3670     \n",
      "Epoch 188/200\n",
      "100/100 [==============================] - 0s - loss: 3.3719     \n",
      "Epoch 189/200\n",
      "100/100 [==============================] - 0s - loss: 3.3667     \n",
      "Epoch 190/200\n",
      "100/100 [==============================] - 0s - loss: 3.3561     \n",
      "Epoch 191/200\n",
      "100/100 [==============================] - 0s - loss: 3.3582     \n",
      "Epoch 192/200\n",
      "100/100 [==============================] - 0s - loss: 3.3544     \n",
      "Epoch 193/200\n",
      "100/100 [==============================] - 0s - loss: 3.3554     \n",
      "Epoch 194/200\n",
      "100/100 [==============================] - 0s - loss: 3.3537     \n",
      "Epoch 195/200\n",
      "100/100 [==============================] - 0s - loss: 3.3535     \n",
      "Epoch 196/200\n",
      "100/100 [==============================] - 0s - loss: 3.3528     \n",
      "Epoch 197/200\n",
      "100/100 [==============================] - 0s - loss: 3.3524     \n",
      "Epoch 198/200\n",
      "100/100 [==============================] - 0s - loss: 3.3519     \n",
      "Epoch 199/200\n",
      "100/100 [==============================] - 0s - loss: 3.3514     \n",
      "Epoch 200/200\n",
      "100/100 [==============================] - 0s - loss: 3.3507     \n"
     ]
    },
    {
     "data": {
      "text/plain": [
       "[<matplotlib.lines.Line2D at 0x1b352fcfd0>]"
      ]
     },
     "execution_count": 100,
     "metadata": {},
     "output_type": "execute_result"
    },
    {
     "data": {
      "image/png": "[encoded data removed]",
      "text/plain": [
       "<matplotlib.figure.Figure at 0x1a8e9093c8>"
      ]
     },
     "metadata": {},
     "output_type": "display_data"
    }
   ],
   "source": [
    "embedding_dim = 32\n",
    "hidden_dim = 32\n",
    "\n",
    "x = tf.keras.layers.Input(shape=(targetlen, vocab_size))\n",
    "encoder = tf.keras.layers.LSTM(embedding_dim)(x)\n",
    "embedding = tf.keras.layers.RepeatVector(targetlen)(encoder)\n",
    "decoder = tf.keras.layers.LSTM(hidden_dim, return_sequences=True)(embedding)\n",
    "y_pred = tf.keras.layers.Dense(vocab_size, activation='softmax')(decoder)\n",
    "model = tf.keras.models.Model(x, y_pred)\n",
    "model.compile(optimizer='adam', loss='categorical_crossentropy')\n",
    "\n",
    "hist = model.fit(x_train[:100], x_train[:100],\n",
    "                 batch_size=64,\n",
    "                 epochs=200)\n",
    "\n",
    "plt.plot(hist.history['loss'])"
   ]
  },
  {
   "cell_type": "code",
   "execution_count": 104,
   "metadata": {},
   "outputs": [],
   "source": [
    "embed = tf.keras.models.Model(x, encoder)\n",
    "\n",
    "train_idx = range(1000)#np.random.randint(0, x_train.shape[0], 1000)\n",
    "x_embed = embed.predict(x_train[train_idx])"
   ]
  },
  {
   "cell_type": "code",
   "execution_count": 105,
   "metadata": {},
   "outputs": [],
   "source": [
    "tsne = TSNE(perplexity=30, n_components=2, init='pca', n_iter=250)\n",
    "low_dim_embeds = tsne.fit_transform(x_embed)"
   ]
  },
  {
   "cell_type": "code",
   "execution_count": 106,
   "metadata": {},
   "outputs": [
    {
     "name": "stdout",
     "output_type": "stream",
     "text": [
      "NB clusters:  2\n",
      "Silhouette Score: 0.15728849172592163\n"
     ]
    }
   ],
   "source": [
    "rescaled = StandardScaler().fit_transform(x_embed)\n",
    "db = DBSCAN(eps=.15, min_samples=10).fit(rescaled)\n",
    "labels = db.labels_\n",
    "silhouette = silhouette_score(rescaled, labels) if len(np.unique(db.labels_)) > 1 else 0.0\n",
    "\n",
    "print(\"NB clusters: \", len(np.unique(labels)))\n",
    "print(\"Silhouette Score: {}\".format(silhouette))"
   ]
  },
  {
   "cell_type": "code",
   "execution_count": 107,
   "metadata": {},
   "outputs": [
    {
     "data": {
      "text/plain": [
       "<matplotlib.collections.PathCollection at 0x1a2f41a7b8>"
      ]
     },
     "execution_count": 107,
     "metadata": {},
     "output_type": "execute_result"
    },
    {
     "data": {
      "image/png": "[encoded data removed]",
      "text/plain": [
       "<matplotlib.figure.Figure at 0x1b35303c50>"
      ]
     },
     "metadata": {},
     "output_type": "display_data"
    }
   ],
   "source": [
    "plt.figure(figsize=(10,10))\n",
    "plt.scatter(low_dim_embeds[:,0], low_dim_embeds[:,1], c=labels)"
   ]
  },
  {
   "cell_type": "code",
   "execution_count": null,
   "metadata": {},
   "outputs": [],
   "source": []
  }
 ],
 "metadata": {
  "kernelspec": {
   "display_name": "Python [conda env:gatech]",
   "language": "python",
   "name": "conda-env-gatech-py"
  },
  "language_info": {
   "codemirror_mode": {
    "name": "ipython",
    "version": 3
   },
   "file_extension": ".py",
   "mimetype": "text/x-python",
   "name": "python",
   "nbconvert_exporter": "python",
   "pygments_lexer": "ipython3",
   "version": "3.6.3"
  }
 },
 "nbformat": 4,
 "nbformat_minor": 2
}
